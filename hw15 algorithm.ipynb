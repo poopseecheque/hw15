{
 "cells": [
  {
   "cell_type": "code",
   "execution_count": 29,
   "id": "ac77cfe9-6fd6-456c-8afe-deee4bebf084",
   "metadata": {
    "tags": []
   },
   "outputs": [],
   "source": [
    "#price array, n values as well, so we can use lenght as indices for prices, each piece is the index of the associated price\n",
    "\n",
    "\n",
    "    \n",
    "def optimal_price(rod_lgth, piece_prices):\n",
    "    prices_for_opt_cuts = [0]*(rod_lgth+1) # we make an array with 0s to rewrite later\n",
    "    cuts = [0]*(rod_lgth+1)\n",
    "    \n",
    "    for i in range(1, rod_lgth+1): #n+1 cuz we need to include the last value\n",
    "        max_price = 0\n",
    "        max_price = float(max_price)\n",
    "        for j in range(i):\n",
    "            if piece_prices[j] + prices_for_opt_cuts[i - (j + 1)] > max_price: # here im using j lenght as indices to extract prices for the associated pieces\n",
    "                max_price = piece_prices[j] + prices_for_opt_cuts[i - (j + 1)] #here i record prices for each combination\n",
    "                prices_for_opt_cuts[i] = max_price #i rerecord the array to run the loop again\n",
    "                cuts[i] = j + 1\n",
    "                \n",
    "    optimal_cuts = [] #here I save cuts\n",
    "    while rod_lgth > 0:\n",
    "        optimal_cuts.append(cuts[rod_lgth])\n",
    "        rod_lgth -= cuts[rod_lgth]\n",
    "    print(f\"max value: {prices_for_opt_cuts[-1]}\")\n",
    "    print(f\"optimal cuts: {optimal_cuts}\")\n",
    "    return prices_for_opt_cuts[-1], optimal_cuts #return max price and cuts\n",
    "    \n",
    "\n"
   ]
  },
  {
   "cell_type": "code",
   "execution_count": 30,
   "id": "414fd0f1-6806-4302-b78b-9e6dd1177578",
   "metadata": {
    "tags": []
   },
   "outputs": [
    {
     "name": "stdout",
     "output_type": "stream",
     "text": [
      "max value: 30\n",
      "optimal cuts: [2, 3, 6]\n"
     ]
    },
    {
     "data": {
      "text/plain": [
       "(30, [2, 3, 6])"
      ]
     },
     "execution_count": 30,
     "metadata": {},
     "output_type": "execute_result"
    }
   ],
   "source": [
    "n = 11\n",
    "prices = [1, 5, 8, 9, 10, 17, 17, 20, 21, 24, 25]\n",
    "optimal_price(n, prices)\n",
    "\n"
   ]
  },
  {
   "cell_type": "code",
   "execution_count": 28,
   "id": "23be9c85-f083-4275-9cfa-6e0d954dbd6e",
   "metadata": {
    "tags": []
   },
   "outputs": [
    {
     "name": "stdout",
     "output_type": "stream",
     "text": [
      "max value: 22\n",
      "optimal cuts: [2, 6]\n"
     ]
    },
    {
     "data": {
      "text/plain": [
       "(22, [2, 6])"
      ]
     },
     "execution_count": 28,
     "metadata": {},
     "output_type": "execute_result"
    }
   ],
   "source": [
    "n = 8\n",
    "prices = [1, 5, 8, 9, 10, 17, 17, 20]\n",
    "optimal_price(n, prices)\n",
    "\n",
    "\n"
   ]
  },
  {
   "cell_type": "markdown",
   "id": "fddc07f6-923e-47ee-9a55-712de091dcea",
   "metadata": {
    "tags": []
   },
   "source": [
    "**Conlcusion: I wanted to die while doing this task. It took me a while to figure out how to compile all the steps into one code. It was obvious that I had to create empty lists where i will record lengths to compare. it became better when i understood that i can use lentghs on the rod as indices for the prices, then i can just add prices for each piece. But i give this task 0/10 because it almost drove me crazy**"
   ]
  }
 ],
 "metadata": {
  "kernelspec": {
   "display_name": "Python 3 (ipykernel)",
   "language": "python",
   "name": "python3"
  },
  "language_info": {
   "codemirror_mode": {
    "name": "ipython",
    "version": 3
   },
   "file_extension": ".py",
   "mimetype": "text/x-python",
   "name": "python",
   "nbconvert_exporter": "python",
   "pygments_lexer": "ipython3",
   "version": "3.10.8"
  }
 },
 "nbformat": 4,
 "nbformat_minor": 5
}
